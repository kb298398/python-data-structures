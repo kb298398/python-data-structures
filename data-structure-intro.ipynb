{
 "cells": [
  {
   "cell_type": "markdown",
   "id": "1126b299-d8eb-4041-b606-0a2cd6a158fd",
   "metadata": {},
   "source": [
    "# Data Structures"
   ]
  },
  {
   "cell_type": "markdown",
   "id": "5c62c208-3731-480b-923a-50442f4f1057",
   "metadata": {},
   "source": [
    "## Data structures: The maintanence, management, and arangment of data.\n",
    "\n",
    "- Structures:\n",
    "    - Linear:  sequentially \n",
    "    - Non-linear: Correlated, but not in an oredered format\n",
    "\n",
    "- Linear:\n",
    "    - List\n",
    "    - Array\n",
    "    - Tuple\n",
    "    - Dict\n",
    "    - Set"
   ]
  },
  {
   "cell_type": "markdown",
   "id": "b291f267-501c-47be-8bac-7707597b911b",
   "metadata": {},
   "source": [
    "### Array - Matrix operations and statistics"
   ]
  },
  {
   "cell_type": "code",
   "execution_count": 15,
   "id": "5cc3baec-961d-48d8-9cfc-9859e086b907",
   "metadata": {},
   "outputs": [],
   "source": [
    "import numpy as np\n",
    "\n",
    "array = np.array([[2, 4], [6, 8]])\n",
    "array_2 = np.array([[3, 5], [5, 3]])"
   ]
  },
  {
   "cell_type": "code",
   "execution_count": 29,
   "id": "e67abc0e-31ac-4828-8669-344114024241",
   "metadata": {},
   "outputs": [
    {
     "name": "stdout",
     "output_type": "stream",
     "text": [
      "Mean: 5.0\n",
      "Product: [[26 22]\n",
      " [58 54]]\n"
     ]
    }
   ],
   "source": [
    "mean = np.mean(array)\n",
    "\n",
    "product = np.dot(array, array_2)\n",
    "\n",
    "print(f'Mean: {mean}')\n",
    "print(f'Product: {product}') "
   ]
  },
  {
   "cell_type": "code",
   "execution_count": 45,
   "id": "e52d38f7-7144-4600-8417-385121b0dc94",
   "metadata": {},
   "outputs": [
    {
     "data": {
      "text/plain": [
       "array([[ 2,  4,  6],\n",
       "       [ 8, 10, 12],\n",
       "       [14, 16, 18]])"
      ]
     },
     "execution_count": 45,
     "metadata": {},
     "output_type": "execute_result"
    }
   ],
   "source": [
    "# 3x3 matrix\n",
    "array_3 = np.array([[2, 4, 6], [8, 10, 12], [14, 16, 18]])\n",
    "\n",
    "array_3"
   ]
  },
  {
   "cell_type": "code",
   "execution_count": 47,
   "id": "db34398f-eb03-4138-b286-d8c98afbbf06",
   "metadata": {},
   "outputs": [
    {
     "data": {
      "text/plain": [
       "array([[ 2,  8, 14],\n",
       "       [ 4, 10, 16],\n",
       "       [ 6, 12, 18]])"
      ]
     },
     "execution_count": 47,
     "metadata": {},
     "output_type": "execute_result"
    }
   ],
   "source": [
    "# Transpose\n",
    "array_3_transpose = array_3.T\n",
    "\n",
    "array_3_transpose"
   ]
  },
  {
   "cell_type": "code",
   "execution_count": 55,
   "id": "3c7354b7-72e1-403a-867b-528538aa313c",
   "metadata": {},
   "outputs": [
    {
     "data": {
      "text/plain": [
       "array([[ 56, 128, 200],\n",
       "       [128, 308, 488],\n",
       "       [200, 488, 776]])"
      ]
     },
     "execution_count": 55,
     "metadata": {},
     "output_type": "execute_result"
    }
   ],
   "source": [
    "# Dot product\n",
    "array_3_product = np.dot(array_3, array_3_transpose)\n",
    "\n",
    "array_3_product"
   ]
  },
  {
   "cell_type": "markdown",
   "id": "1058c961-cf9b-4049-92df-93347e9efe5b",
   "metadata": {},
   "source": [
    "### List"
   ]
  },
  {
   "cell_type": "code",
   "execution_count": 66,
   "id": "46209729-1c5a-4137-bd95-e3e27b7bd1b5",
   "metadata": {},
   "outputs": [
    {
     "name": "stdout",
     "output_type": "stream",
     "text": [
      "86\n",
      "12\n"
     ]
    }
   ],
   "source": [
    "# Largest value from list\n",
    "l1 = [12, 34, 85, 43, 56, 86, 54, 22]\n",
    "\n",
    "print(max(l1))\n",
    "print(min(l1))"
   ]
  },
  {
   "cell_type": "code",
   "execution_count": 70,
   "id": "b0ba65c9-9b9c-4b4e-a3b7-f786474bc2ba",
   "metadata": {},
   "outputs": [
    {
     "data": {
      "text/plain": [
       "[22, 54, 86, 56, 43, 85, 34, 12]"
      ]
     },
     "execution_count": 70,
     "metadata": {},
     "output_type": "execute_result"
    }
   ],
   "source": [
    "# Reverse\n",
    "\n",
    "l1_rev = l1[::-1]\n",
    "\n",
    "l1_rev"
   ]
  },
  {
   "cell_type": "code",
   "execution_count": 74,
   "id": "d9ac21e1-5625-43b9-915d-8d6d5e3dd4fa",
   "metadata": {},
   "outputs": [
    {
     "data": {
      "text/plain": [
       "3"
      ]
     },
     "execution_count": 74,
     "metadata": {},
     "output_type": "execute_result"
    }
   ],
   "source": [
    "# Number of times apple appears\n",
    "l2 = ['apple', 'kiwi', 'kiwi', 'banana', 'apple', 'apple']\n",
    "\n",
    "l2.count('apple')"
   ]
  },
  {
   "cell_type": "code",
   "execution_count": 80,
   "id": "84fe9018-67f2-475a-82ff-f4c3d2a33f38",
   "metadata": {},
   "outputs": [
    {
     "name": "stdout",
     "output_type": "stream",
     "text": [
      "apple: 3\n",
      "banana: 1\n",
      "kiwi: 2\n"
     ]
    }
   ],
   "source": [
    "# Number of imes each word appears\n",
    "for i in np.unique(l2):\n",
    "    count = l2.count(i)\n",
    "    print(f'{i}: {count}')"
   ]
  },
  {
   "cell_type": "code",
   "execution_count": null,
   "id": "b473d63b-e033-49da-8c48-8c631298b7b6",
   "metadata": {},
   "outputs": [],
   "source": []
  }
 ],
 "metadata": {
  "kernelspec": {
   "display_name": "Python [conda env:base] *",
   "language": "python",
   "name": "conda-base-py"
  },
  "language_info": {
   "codemirror_mode": {
    "name": "ipython",
    "version": 3
   },
   "file_extension": ".py",
   "mimetype": "text/x-python",
   "name": "python",
   "nbconvert_exporter": "python",
   "pygments_lexer": "ipython3",
   "version": "3.12.7"
  }
 },
 "nbformat": 4,
 "nbformat_minor": 5
}
